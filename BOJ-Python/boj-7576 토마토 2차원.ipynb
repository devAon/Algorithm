{
 "cells": [
  {
   "cell_type": "code",
   "execution_count": 3,
   "metadata": {},
   "outputs": [
    {
     "name": "stdout",
     "output_type": "stream",
     "text": [
      "5 5\n",
      "-1 1 0 0 0\n",
      "0 -1 -1 -1 0\n",
      "0 -1 -1 -1 0\n",
      "0 -1 -1 -1 0\n",
      "0 0 0 0 0\n",
      "14\n"
     ]
    }
   ],
   "source": [
    "from collections import deque\n",
    "import sys\n",
    "sys.setrecursionlimit(100000)\n",
    "\n",
    "dx = [-1, 1, 0, 0]\n",
    "dy = [0, 0, -1, 1]\n",
    "\n",
    "def bfs(queue):\n",
    "    days = -1\n",
    "    \n",
    "    while queue:\n",
    "        days += 1\n",
    "        for _ in range(len(queue)): \n",
    "            x, y = queue.popleft()\n",
    "            for i in range(4):\n",
    "                nx = dx[i] + x\n",
    "                ny = dy[i] + y\n",
    "                if (0 <= nx < n) and (0 <= ny < m) and arr[nx][ny] == 0:\n",
    "                    arr[nx][ny] = arr[x][y] + 1\n",
    "                    queue.append([nx, ny])\n",
    "    \n",
    "    for value in arr:\n",
    "        if 0 in value:\n",
    "            return -1\n",
    "    return days\n",
    "\n",
    "m, n  = map(int, input().split())\n",
    "arr =[]\n",
    "queue = deque()\n",
    "for i in range(n):\n",
    "    row = list(map(int, input().split()))\n",
    "    for j in range(m):\n",
    "        if row[j] == 1:\n",
    "            queue.append([i, j])\n",
    "    arr.append(row)\n",
    "\n",
    "print(bfs(queue))"
   ]
  }
 ],
 "metadata": {
  "kernelspec": {
   "display_name": "Python 3",
   "language": "python",
   "name": "python3"
  },
  "language_info": {
   "codemirror_mode": {
    "name": "ipython",
    "version": 3
   },
   "file_extension": ".py",
   "mimetype": "text/x-python",
   "name": "python",
   "nbconvert_exporter": "python",
   "pygments_lexer": "ipython3",
   "version": "3.7.3"
  }
 },
 "nbformat": 4,
 "nbformat_minor": 2
}
