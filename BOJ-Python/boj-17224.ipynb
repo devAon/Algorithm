{
 "cells": [
  {
   "cell_type": "code",
   "execution_count": 11,
   "metadata": {},
   "outputs": [
    {
     "name": "stdout",
     "output_type": "stream",
     "text": [
      "4 8 4 \n",
      "1 8\n",
      "4 5\n",
      "6 20\n",
      "9 12\n",
      "380\n"
     ]
    }
   ],
   "source": [
    "N, L, K = map(int, input().split())\n",
    "easy, hard = 0,0\n",
    "\n",
    "for i in range(N):\n",
    "    sub1, sub2 = map(int, input().split())\n",
    "    if sub1 <= L and sub2 <= L:\n",
    "        hard += 1\n",
    "    elif sub1 <= L:\n",
    "        easy += 1\n",
    "        \n",
    "score = min(K, hard) * 140\n",
    "if hard < K :\n",
    "    score += min(K-hard, easy) * 100\n",
    "    \n",
    "print(score)"
   ]
  }
 ],
 "metadata": {
  "kernelspec": {
   "display_name": "Python 3",
   "language": "python",
   "name": "python3"
  },
  "language_info": {
   "codemirror_mode": {
    "name": "ipython",
    "version": 3
   },
   "file_extension": ".py",
   "mimetype": "text/x-python",
   "name": "python",
   "nbconvert_exporter": "python",
   "pygments_lexer": "ipython3",
   "version": "3.7.3"
  }
 },
 "nbformat": 4,
 "nbformat_minor": 2
}
