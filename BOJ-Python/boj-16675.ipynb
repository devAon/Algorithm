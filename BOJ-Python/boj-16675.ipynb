{
 "cells": [
  {
   "cell_type": "code",
   "execution_count": 4,
   "metadata": {},
   "outputs": [
    {
     "name": "stdout",
     "output_type": "stream",
     "text": [
      "P P S R\n",
      "TK\n"
     ]
    }
   ],
   "source": [
    "ML, MR, TL, TR = ('SPR'.index(i) for i in input().split())\n",
    "\n",
    "if ML == MR and (ML+2)%3 in (TL,TR):\n",
    "    print(\"TK\")\n",
    "elif TL == TR and (TL+2)%3 in (ML,MR):\n",
    "    print(\"MS\")\n",
    "else :\n",
    "    print('?')"
   ]
  }
 ],
 "metadata": {
  "kernelspec": {
   "display_name": "Python 3",
   "language": "python",
   "name": "python3"
  },
  "language_info": {
   "codemirror_mode": {
    "name": "ipython",
    "version": 3
   },
   "file_extension": ".py",
   "mimetype": "text/x-python",
   "name": "python",
   "nbconvert_exporter": "python",
   "pygments_lexer": "ipython3",
   "version": "3.7.3"
  }
 },
 "nbformat": 4,
 "nbformat_minor": 2
}
