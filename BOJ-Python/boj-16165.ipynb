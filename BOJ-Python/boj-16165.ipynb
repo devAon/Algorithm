{
 "cells": [
  {
   "cell_type": "code",
   "execution_count": null,
   "metadata": {},
   "outputs": [],
   "source": [
    "N, M = map(int, input().split())\n",
    "team_mem, mem_team = {}, {}\n",
    "for i in range(N):\n",
    "    team_name, mem_num = input(), int(input())\n",
    "    team_mem[team_name] = []\n",
    "    for j in range(mem_num):\n",
    "        mem_name = input()\n",
    "        team_mem[team_name].append(mem_name)\n",
    "        mem_team[mem_name] = team_name\n",
    "for i in range(M):\n",
    "    mem_name, q = input(), int(input())\n",
    "    if q :\n",
    "        print(mem_team[mem_name])\n",
    "    else :\n",
    "        for mem in sorted(team_mem[mem_name]):\n",
    "            print(mem)"
   ]
  }
 ],
 "metadata": {
  "kernelspec": {
   "display_name": "Python 3",
   "language": "python",
   "name": "python3"
  },
  "language_info": {
   "codemirror_mode": {
    "name": "ipython",
    "version": 3
   },
   "file_extension": ".py",
   "mimetype": "text/x-python",
   "name": "python",
   "nbconvert_exporter": "python",
   "pygments_lexer": "ipython3",
   "version": "3.7.3"
  }
 },
 "nbformat": 4,
 "nbformat_minor": 2
}
