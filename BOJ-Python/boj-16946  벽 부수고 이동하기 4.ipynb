{
 "cells": [
  {
   "cell_type": "code",
   "execution_count": 17,
   "metadata": {},
   "outputs": [
    {
     "name": "stdout",
     "output_type": "stream",
     "text": [
      "4 5\n",
      "11001\n",
      "00111\n",
      "01010\n",
      "10101\n",
      "46003\n",
      "00732\n",
      "06040\n",
      "50403\n"
     ]
    }
   ],
   "source": [
    "from collections import deque\n",
    "import sys\n",
    "sys.setrecursionlimit(100000)\n",
    "\n",
    "n, m = map(int, input().split())\n",
    "a = [list(input()) for _ in range(n)] # 입력\n",
    "b = [[0]*m for _ in range(n)] # 입력받은 맵 0 \n",
    "v = [0] \n",
    "visited = [[False]*m for _ in range(n)]\n",
    "\n",
    "dx = [-1, 1, 0, 0]\n",
    "dy = [0, 0, -1, 1]\n",
    "\n",
    "def bfs(x, y, z):\n",
    "    q = deque()\n",
    "    q.append([x, y])\n",
    "    visited[x][y] = True\n",
    "    cnt = 1\n",
    "    while q:\n",
    "        x, y = q.popleft()\n",
    "        b[x][y] = z\n",
    "        for i in range(4):\n",
    "            nx = dx[i] + x\n",
    "            ny = dy[i] + y\n",
    "             \n",
    "            if nx < 0 or nx >= n or ny < 0 or ny >= m:\n",
    "                continue\n",
    "            if not visited[nx][ny] and not a[nx][ny]:\n",
    "                q.append([nx, ny])\n",
    "                visited[nx][ny] = True\n",
    "                cnt += 1\n",
    "    return cnt           \n",
    "            \n",
    "        \n",
    "        \n",
    "for i in range(n):\n",
    "    for j in range(m):\n",
    "        if a[i][j] == '0':\n",
    "            a[i][j] = 0\n",
    "        else:\n",
    "            a[i][j] = 1\n",
    "\n",
    "\n",
    "z = 1\n",
    "for i in range(n):\n",
    "    for j in range(m):\n",
    "        if not a[i][j] and not visited[i][j]:\n",
    "            v.append(bfs(i, j, z))\n",
    "            z += 1\n",
    "            \n",
    "            \n",
    "for i in range(n):\n",
    "    for j in range(m):\n",
    "        if a[i][j]:\n",
    "            s = set()\n",
    "            for k in range(4):\n",
    "                ni, nj = i+dx[k], j+dy[k]\n",
    "                if 0 <= ni < n and 0 <= nj < m:\n",
    "                    s.add(b[ni][nj])\n",
    "            for k in s:\n",
    "                a[i][j] += v[k]\n",
    "                a[i][j] %= 10\n",
    "                    \n",
    "for i in range(n):\n",
    "    print(''.join(map(str, a[i])))"
   ]
  },
  {
   "cell_type": "code",
   "execution_count": null,
   "metadata": {},
   "outputs": [],
   "source": []
  },
  {
   "cell_type": "code",
   "execution_count": null,
   "metadata": {},
   "outputs": [],
   "source": []
  }
 ],
 "metadata": {
  "kernelspec": {
   "display_name": "Python 3",
   "language": "python",
   "name": "python3"
  },
  "language_info": {
   "codemirror_mode": {
    "name": "ipython",
    "version": 3
   },
   "file_extension": ".py",
   "mimetype": "text/x-python",
   "name": "python",
   "nbconvert_exporter": "python",
   "pygments_lexer": "ipython3",
   "version": "3.7.3"
  }
 },
 "nbformat": 4,
 "nbformat_minor": 2
}
