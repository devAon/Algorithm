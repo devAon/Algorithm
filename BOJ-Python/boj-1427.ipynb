{
 "cells": [
  {
   "cell_type": "code",
   "execution_count": 10,
   "metadata": {
    "scrolled": true
   },
   "outputs": [
    {
     "name": "stdout",
     "output_type": "stream",
     "text": [
      "2143\n",
      "4321\n"
     ]
    }
   ],
   "source": [
    "data = input()\n",
    "arr = list()\n",
    "str = \"\"\n",
    "for i in data:\n",
    "    arr.append(i)\n",
    "arr.sort(reverse=True)\n",
    "for i in arr:\n",
    "    str = str + i\n",
    "print(str)"
   ]
  },
  {
   "cell_type": "code",
   "execution_count": 8,
   "metadata": {},
   "outputs": [
    {
     "name": "stdout",
     "output_type": "stream",
     "text": [
      "2143\n",
      "4321"
     ]
    }
   ],
   "source": [
    "arr = input()\n",
    "for i in range(9, -1, -1):\n",
    "    for j in arr:\n",
    "        if int(j) == i:\n",
    "            print(i, end=\"\")"
   ]
  },
  {
   "cell_type": "code",
   "execution_count": null,
   "metadata": {},
   "outputs": [],
   "source": []
  }
 ],
 "metadata": {
  "kernelspec": {
   "display_name": "Python 3",
   "language": "python",
   "name": "python3"
  },
  "language_info": {
   "codemirror_mode": {
    "name": "ipython",
    "version": 3
   },
   "file_extension": ".py",
   "mimetype": "text/x-python",
   "name": "python",
   "nbconvert_exporter": "python",
   "pygments_lexer": "ipython3",
   "version": "3.7.3"
  }
 },
 "nbformat": 4,
 "nbformat_minor": 2
}
