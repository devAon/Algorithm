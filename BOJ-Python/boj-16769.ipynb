{
 "cells": [
  {
   "cell_type": "code",
   "execution_count": 4,
   "metadata": {},
   "outputs": [
    {
     "name": "stdout",
     "output_type": "stream",
     "text": [
      "10 3\n",
      "11 4\n",
      "12 5\n",
      "0\n",
      "10\n",
      "2\n"
     ]
    }
   ],
   "source": [
    "C, M = list(), list()\n",
    "for i in range(3):\n",
    "    a, b = map(int, input().split())\n",
    "    C.append(a)\n",
    "    M.append(b)\n",
    "for i in range(100):\n",
    "    idx = i % 3\n",
    "    nxt = (idx + 1) % 3\n",
    "    M[idx], M[nxt] = max(M[idx]-(C[nxt] - M[nxt]), 0), min(C[nxt], M[nxt] + M[idx])\n",
    "for i in M:\n",
    "    print(i)"
   ]
  }
 ],
 "metadata": {
  "kernelspec": {
   "display_name": "Python 3",
   "language": "python",
   "name": "python3"
  },
  "language_info": {
   "codemirror_mode": {
    "name": "ipython",
    "version": 3
   },
   "file_extension": ".py",
   "mimetype": "text/x-python",
   "name": "python",
   "nbconvert_exporter": "python",
   "pygments_lexer": "ipython3",
   "version": "3.7.3"
  }
 },
 "nbformat": 4,
 "nbformat_minor": 2
}
