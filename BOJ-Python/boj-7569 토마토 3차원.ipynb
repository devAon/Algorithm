{
 "cells": [
  {
   "cell_type": "code",
   "execution_count": 2,
   "metadata": {
    "scrolled": true
   },
   "outputs": [
    {
     "name": "stdout",
     "output_type": "stream",
     "text": [
      "5 3 2\n",
      "0 0 0 0 0\n",
      "0 0 0 0 0\n",
      "0 0 0 0 0\n",
      "0 0 0 0 0\n",
      "0 0 1 0 0\n",
      "0 0 0 0 0\n",
      "4\n"
     ]
    }
   ],
   "source": [
    "from collections import deque\n",
    "import sys\n",
    "sys.setrecursionlimit(100000)\n",
    "\n",
    "dx = [-1, 1, 0, 0, 0, 0]\n",
    "dy = [0, 0, -1, 1, 0, 0]\n",
    "dz = [0, 0, 0, 0, -1, 1]\n",
    "\n",
    "def bfs(queue):\n",
    "    while queue:\n",
    "        for _ in range(len(queue)):\n",
    "            x, y, z = queue.popleft()\n",
    "            for i in range(6):\n",
    "                nx = dx[i] + x\n",
    "                ny = dy[i] + y\n",
    "                nz = dz[i] + z\n",
    "\n",
    "                if (0 <= nx < h) and (0 <= ny < n) and (0 <= nz < m) and (arr[nx][ny][nz] == 0):\n",
    "                    arr[nx][ny][nz] = arr[x][y][z] + 1\n",
    "                    queue.append([nx, ny, nz])\n",
    "                         \n",
    "    days = 0\n",
    "    for i in range(h):\n",
    "        for j in range(n): \n",
    "            if 0 in arr[i][j]:\n",
    "                return -1\n",
    "            days = max(days, max(arr[i][j]))\n",
    "    return days-1\n",
    "\n",
    "m, n, h = map(int, input().split())\n",
    "arr = [[list(map(int, input().split())) for _ in range(n)] for _ in range(h)]\n",
    "queue = deque()\n",
    "\n",
    "for i in range(h):\n",
    "    for j in range(n):\n",
    "        for k in range(m):\n",
    "            if arr[i][j][k] == 1:\n",
    "                queue.append([i, j, k])\n",
    "\n",
    "print(bfs(queue))"
   ]
  }
 ],
 "metadata": {
  "kernelspec": {
   "display_name": "Python 3",
   "language": "python",
   "name": "python3"
  },
  "language_info": {
   "codemirror_mode": {
    "name": "ipython",
    "version": 3
   },
   "file_extension": ".py",
   "mimetype": "text/x-python",
   "name": "python",
   "nbconvert_exporter": "python",
   "pygments_lexer": "ipython3",
   "version": "3.7.3"
  }
 },
 "nbformat": 4,
 "nbformat_minor": 2
}
