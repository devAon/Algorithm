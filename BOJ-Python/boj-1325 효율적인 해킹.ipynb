{
 "cells": [
  {
   "cell_type": "code",
   "execution_count": 9,
   "metadata": {},
   "outputs": [
    {
     "name": "stdout",
     "output_type": "stream",
     "text": [
      "5 4\n",
      "3 1\n",
      "3 2\n",
      "4 3\n",
      "5 3\n",
      "1 2 "
     ]
    }
   ],
   "source": [
    "from collections import deque\n",
    "\n",
    "n, m = map(int, input().split())\n",
    "adj = [[] for _ in range(n+1)]\n",
    "for _ in range(m):\n",
    "    x,y = map(int ,input().split())\n",
    "    adj[y].append(x)\n",
    "\n",
    "def bfs(v):\n",
    "    q = deque([v])\n",
    "    visited = [False] * (n+1)\n",
    "    visited[v] = True\n",
    "    count = 1\n",
    "    while q:\n",
    "        v = q.popleft()\n",
    "        for i in adj[v]:\n",
    "            if not visited[i]:\n",
    "                q.append(i)\n",
    "                count += 1\n",
    "                visited[i] = True  \n",
    "    return count\n",
    "\n",
    "result = []\n",
    "maxV = -1\n",
    "for i in range(1, n+1):\n",
    "    cnt = bfs(i)\n",
    "    if maxV < cnt:\n",
    "        result= [i]\n",
    "        maxV = cnt\n",
    "    elif maxV == cnt:\n",
    "        result.append(i)\n",
    "        maxV = cnt\n",
    "for e in result:\n",
    "    print(e, end= ' ')"
   ]
  }
 ],
 "metadata": {
  "kernelspec": {
   "display_name": "Python 3",
   "language": "python",
   "name": "python3"
  },
  "language_info": {
   "codemirror_mode": {
    "name": "ipython",
    "version": 3
   },
   "file_extension": ".py",
   "mimetype": "text/x-python",
   "name": "python",
   "nbconvert_exporter": "python",
   "pygments_lexer": "ipython3",
   "version": "3.7.3"
  }
 },
 "nbformat": 4,
 "nbformat_minor": 2
}
