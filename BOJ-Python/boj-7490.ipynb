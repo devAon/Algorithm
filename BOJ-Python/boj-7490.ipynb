{
 "cells": [
  {
   "cell_type": "code",
   "execution_count": 4,
   "metadata": {},
   "outputs": [
    {
     "name": "stdout",
     "output_type": "stream",
     "text": [
      "2\n",
      "3\n",
      "1+2-3\n",
      "\n",
      "7\n",
      "1+2-3+4-5-6+7\n",
      "1+2-3-4+5+6-7\n",
      "1-2 3+4+5+6+7\n",
      "1-2 3-4 5+6 7\n",
      "1-2+3+4-5+6-7\n",
      "1-2-3-4-5+6+7\n",
      "\n"
     ]
    }
   ],
   "source": [
    "import copy\n",
    "\n",
    "def recursive(arr, n):\n",
    "    if len(arr) == n:\n",
    "        operators_list.append(copy.deepcopy(arr))\n",
    "        return\n",
    "    arr.append(' ')\n",
    "    recursive(arr, n)\n",
    "    arr.pop()\n",
    "    \n",
    "    arr.append('+')\n",
    "    recursive(arr, n)\n",
    "    arr.pop()\n",
    "    \n",
    "    arr.append('-')\n",
    "    recursive(arr, n)\n",
    "    arr.pop()\n",
    "\n",
    "\n",
    "test_case = int(input())\n",
    "\n",
    "for _ in range(test_case):\n",
    "    operators_list = []\n",
    "    n = int(input())\n",
    "    recursive([], n-1)\n",
    "    \n",
    "    integers = [i for i in range(1, n+1)]\n",
    "    \n",
    "    for operators in operators_list:\n",
    "        string = \"\"\n",
    "        for i in range(n-1):\n",
    "            string += str(integers[i])+operators[i]\n",
    "        string += str(integers[-1])\n",
    "        if eval(string.replace(\" \",\"\")) == 0:\n",
    "            print(string)\n",
    "    print()"
   ]
  },
  {
   "cell_type": "code",
   "execution_count": null,
   "metadata": {},
   "outputs": [],
   "source": []
  }
 ],
 "metadata": {
  "kernelspec": {
   "display_name": "Python 3",
   "language": "python",
   "name": "python3"
  },
  "language_info": {
   "codemirror_mode": {
    "name": "ipython",
    "version": 3
   },
   "file_extension": ".py",
   "mimetype": "text/x-python",
   "name": "python",
   "nbconvert_exporter": "python",
   "pygments_lexer": "ipython3",
   "version": "3.7.3"
  }
 },
 "nbformat": 4,
 "nbformat_minor": 2
}
