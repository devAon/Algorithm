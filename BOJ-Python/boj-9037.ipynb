{
 "cells": [
  {
   "cell_type": "code",
   "execution_count": 5,
   "metadata": {},
   "outputs": [
    {
     "name": "stdout",
     "output_type": "stream",
     "text": [
      "4\n",
      "5\n",
      "2 4 7 8 9\n",
      "6\n",
      "1\n",
      "9\n",
      "0\n",
      "6\n",
      "10 5 13 2 7 8\n",
      "4\n",
      "4\n",
      "3 4 4 3\n",
      "0\n"
     ]
    }
   ],
   "source": [
    "def check(N, candy):\n",
    "    for i in range(N):\n",
    "        if candy[i] % 2 == 1:\n",
    "            candy[i] += 1\n",
    "    return len(set(candy)) == 1\n",
    "\n",
    "def teacher(N, candy):\n",
    "    temp_list = [0 for i in range(N)]\n",
    "    for idx in range(N):\n",
    "        if candy[idx] % 2:\n",
    "            candy[idx] += 1\n",
    "        candy[idx] //= 2\n",
    "        temp_list[(idx+1) % N] = candy[idx]\n",
    "    \n",
    "    for idx in range(N):\n",
    "        candy[idx] += temp_list[idx]\n",
    "        \n",
    "    return candy   \n",
    "        \n",
    "def process():\n",
    "    N, candy = int(input()), list(map(int, input().split())) \n",
    "    cnt = 0\n",
    "    while not check(N, candy):\n",
    "        cnt += 1\n",
    "        candy = teacher(N, candy)\n",
    "    print(cnt)\n",
    "\n",
    "\n",
    "for i in range(int(input())):\n",
    "    process()\n"
   ]
  },
  {
   "cell_type": "code",
   "execution_count": null,
   "metadata": {},
   "outputs": [],
   "source": []
  }
 ],
 "metadata": {
  "kernelspec": {
   "display_name": "Python 3",
   "language": "python",
   "name": "python3"
  },
  "language_info": {
   "codemirror_mode": {
    "name": "ipython",
    "version": 3
   },
   "file_extension": ".py",
   "mimetype": "text/x-python",
   "name": "python",
   "nbconvert_exporter": "python",
   "pygments_lexer": "ipython3",
   "version": "3.7.3"
  }
 },
 "nbformat": 4,
 "nbformat_minor": 2
}
