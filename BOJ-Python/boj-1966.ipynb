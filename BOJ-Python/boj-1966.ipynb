{
 "cells": [
  {
   "cell_type": "code",
   "execution_count": 1,
   "metadata": {},
   "outputs": [
    {
     "name": "stdout",
     "output_type": "stream",
     "text": [
      "3\n",
      "1 0\n",
      "5\n",
      "1\n",
      "4 2\n",
      "1 2 3 4\n",
      "2\n",
      "6 0\n",
      "1 1 9 1 1 1\n",
      "5\n"
     ]
    }
   ],
   "source": [
    "test_case = int(input())\n",
    "for _ in range(test_case):\n",
    "    n, m = list(map(int, input().split()))\n",
    "    queue = list(map(int, input().split()))\n",
    "    queue = [(i, idx) for idx, i in enumerate(queue)]\n",
    "    \n",
    "    count = 0\n",
    "    while True:\n",
    "        if queue[0][0] == max(queue, key=lambda x : x[0])[0]:\n",
    "            count += 1\n",
    "            if queue[0][1] == m:\n",
    "                print(count)\n",
    "                break\n",
    "            else:\n",
    "                queue.pop(0)\n",
    "        else : \n",
    "            queue.append(queue.pop(0))"
   ]
  },
  {
   "cell_type": "code",
   "execution_count": null,
   "metadata": {},
   "outputs": [],
   "source": []
  }
 ],
 "metadata": {
  "kernelspec": {
   "display_name": "Python 3",
   "language": "python",
   "name": "python3"
  },
  "language_info": {
   "codemirror_mode": {
    "name": "ipython",
    "version": 3
   },
   "file_extension": ".py",
   "mimetype": "text/x-python",
   "name": "python",
   "nbconvert_exporter": "python",
   "pygments_lexer": "ipython3",
   "version": "3.7.3"
  }
 },
 "nbformat": 4,
 "nbformat_minor": 2
}
