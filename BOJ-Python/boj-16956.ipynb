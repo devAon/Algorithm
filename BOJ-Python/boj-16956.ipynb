{
 "cells": [
  {
   "cell_type": "code",
   "execution_count": 3,
   "metadata": {},
   "outputs": [
    {
     "name": "stdout",
     "output_type": "stream",
     "text": [
      "6 6\n",
      "..S...\n",
      "..S.W.\n",
      ".S....\n",
      "..W...\n",
      "...W..\n",
      "......\n",
      "1\n",
      "DDSDDD\n",
      "DDSDWD\n",
      "DSDDDD\n",
      "DDWDDD\n",
      "DDDWDD\n",
      "DDDDDD\n"
     ]
    }
   ],
   "source": [
    "R, C = map(int, input().split())\n",
    "M = [list(input()) for i in range(R)]\n",
    "dx, dy = [0, 1, 0, -1], [1, 0, -1, 0]\n",
    "ck = False\n",
    "for i in range(R):\n",
    "    for j in range(C):\n",
    "        if M[i][j] == 'W':\n",
    "            for w in range(4):\n",
    "                ii, jj = i + dx[w], j + dy[w]\n",
    "                if ii < 0 or ii == R or jj < 0 or jj == C:\n",
    "                    continue\n",
    "                if M[ii][jj] == 'S':\n",
    "                    ck = True\n",
    "if ck:\n",
    "    print(0)\n",
    "else:\n",
    "    print(1)\n",
    "    for i in range(R):\n",
    "        for j in range(C):\n",
    "            if M[i][j] not in 'SW':\n",
    "                M[i][j] = 'D'\n",
    "    for i in M:\n",
    "        print(''.join(i))"
   ]
  },
  {
   "cell_type": "code",
   "execution_count": null,
   "metadata": {},
   "outputs": [],
   "source": [
    "6  6\n",
    "..S...\n",
    "..S.W.\n",
    ".S....\n",
    "..W...\n",
    "...W..\n",
    "......"
   ]
  }
 ],
 "metadata": {
  "kernelspec": {
   "display_name": "Python 3",
   "language": "python",
   "name": "python3"
  },
  "language_info": {
   "codemirror_mode": {
    "name": "ipython",
    "version": 3
   },
   "file_extension": ".py",
   "mimetype": "text/x-python",
   "name": "python",
   "nbconvert_exporter": "python",
   "pygments_lexer": "ipython3",
   "version": "3.7.3"
  }
 },
 "nbformat": 4,
 "nbformat_minor": 2
}
