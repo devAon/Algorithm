{
 "cells": [
  {
   "cell_type": "code",
   "execution_count": 16,
   "metadata": {},
   "outputs": [
    {
     "name": "stdout",
     "output_type": "stream",
     "text": [
      "4 4 \n",
      "....\n",
      "...X\n",
      "....\n",
      "....\n",
      "3\n"
     ]
    }
   ],
   "source": [
    "N, M = map(int, input().split())\n",
    "arr = list()\n",
    "\n",
    "for _ in range(N):\n",
    "    arr.append(input())\n",
    "\n",
    "row = [0] * N\n",
    "col = [0] * M\n",
    "\n",
    "for i in range(N):\n",
    "    for j in range(M):\n",
    "        if arr[i][j] == 'X':\n",
    "            row[i] = 1\n",
    "            col[j] = 1\n",
    "row_cnt = 0\n",
    "for i in range(N):\n",
    "    if row[i] == 0:\n",
    "        row_cnt += 1\n",
    "col_cnt = 0\n",
    "for i in range(M):\n",
    "    if col[i] == 0:\n",
    "        col_cnt += 1\n",
    "print(max(row_cnt, col_cnt))"
   ]
  }
 ],
 "metadata": {
  "kernelspec": {
   "display_name": "Python 3",
   "language": "python",
   "name": "python3"
  },
  "language_info": {
   "codemirror_mode": {
    "name": "ipython",
    "version": 3
   },
   "file_extension": ".py",
   "mimetype": "text/x-python",
   "name": "python",
   "nbconvert_exporter": "python",
   "pygments_lexer": "ipython3",
   "version": "3.7.3"
  }
 },
 "nbformat": 4,
 "nbformat_minor": 2
}
