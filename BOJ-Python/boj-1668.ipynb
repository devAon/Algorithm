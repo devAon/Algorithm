{
 "cells": [
  {
   "cell_type": "code",
   "execution_count": 2,
   "metadata": {},
   "outputs": [
    {
     "name": "stdout",
     "output_type": "stream",
     "text": [
      "5\n",
      "1\n",
      "2\n",
      "3\n",
      "4\n",
      "5\n",
      "5\n",
      "1\n"
     ]
    }
   ],
   "source": [
    "def asc(arr):\n",
    "    now = arr[0]\n",
    "    result = 1\n",
    "    for i in range(1, len(arr)):\n",
    "        if now < arr[i]:\n",
    "            result += 1\n",
    "            now = arr[i]\n",
    "    return result\n",
    "\n",
    "n = int(input())\n",
    "arr = list()\n",
    "for _ in range(n):\n",
    "    arr.append(int(input()))\n",
    "print(asc(arr))\n",
    "arr.reverse()\n",
    "print(asc(arr))"
   ]
  },
  {
   "cell_type": "code",
   "execution_count": null,
   "metadata": {},
   "outputs": [],
   "source": []
  }
 ],
 "metadata": {
  "kernelspec": {
   "display_name": "Python 3",
   "language": "python",
   "name": "python3"
  },
  "language_info": {
   "codemirror_mode": {
    "name": "ipython",
    "version": 3
   },
   "file_extension": ".py",
   "mimetype": "text/x-python",
   "name": "python",
   "nbconvert_exporter": "python",
   "pygments_lexer": "ipython3",
   "version": "3.7.3"
  }
 },
 "nbformat": 4,
 "nbformat_minor": 2
}
