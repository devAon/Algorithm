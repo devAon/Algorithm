{
 "cells": [
  {
   "cell_type": "code",
   "execution_count": 4,
   "metadata": {},
   "outputs": [
    {
     "name": "stdout",
     "output_type": "stream",
     "text": [
      "ababababa\n",
      "aba\n",
      "2\n"
     ]
    }
   ],
   "source": [
    "doc = input()\n",
    "word = input()\n",
    "index, result = 0,0\n",
    "\n",
    "while len(doc) - index >= len(word):\n",
    "    if doc[index:index+len(word)] == word:\n",
    "        result += 1\n",
    "        index += len(word)\n",
    "    else:\n",
    "        index += 1\n",
    "print(result)"
   ]
  },
  {
   "cell_type": "code",
   "execution_count": null,
   "metadata": {},
   "outputs": [],
   "source": []
  }
 ],
 "metadata": {
  "kernelspec": {
   "display_name": "Python 3",
   "language": "python",
   "name": "python3"
  },
  "language_info": {
   "codemirror_mode": {
    "name": "ipython",
    "version": 3
   },
   "file_extension": ".py",
   "mimetype": "text/x-python",
   "name": "python",
   "nbconvert_exporter": "python",
   "pygments_lexer": "ipython3",
   "version": "3.7.3"
  }
 },
 "nbformat": 4,
 "nbformat_minor": 2
}
