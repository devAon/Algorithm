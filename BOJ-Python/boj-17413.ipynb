{
 "cells": [
  {
   "cell_type": "code",
   "execution_count": 9,
   "metadata": {},
   "outputs": [
    {
     "name": "stdout",
     "output_type": "stream",
     "text": [
      "<int><max>7463847412<long long><max>7085774586302733229\n",
      "<int><max>2147483647<long long><max>9223372036854775807\n"
     ]
    }
   ],
   "source": [
    "S = input()\n",
    "temp, ans, ck = \"\", \"\", False\n",
    "for i in S:\n",
    "    if i == ' ':\n",
    "        if not ck : \n",
    "            ans += temp[::-1] + \" \"\n",
    "            temp =\"\"\n",
    "        else : ans += \" \"\n",
    "    elif i == '<':\n",
    "        ck = True\n",
    "        ans += temp[::-1] + \"<\"\n",
    "        temp = \"\"\n",
    "    elif i == '>':\n",
    "        ck = False\n",
    "        ans += \">\"\n",
    "    else :\n",
    "        if ck : ans += i\n",
    "        else : temp += i\n",
    "ans += temp[::-1]\n",
    "print(ans)"
   ]
  },
  {
   "cell_type": "code",
   "execution_count": null,
   "metadata": {},
   "outputs": [],
   "source": []
  }
 ],
 "metadata": {
  "kernelspec": {
   "display_name": "Python 3",
   "language": "python",
   "name": "python3"
  },
  "language_info": {
   "codemirror_mode": {
    "name": "ipython",
    "version": 3
   },
   "file_extension": ".py",
   "mimetype": "text/x-python",
   "name": "python",
   "nbconvert_exporter": "python",
   "pygments_lexer": "ipython3",
   "version": "3.7.3"
  }
 },
 "nbformat": 4,
 "nbformat_minor": 2
}
