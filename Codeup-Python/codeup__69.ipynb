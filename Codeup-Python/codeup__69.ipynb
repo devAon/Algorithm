{
 "cells": [
  {
   "cell_type": "code",
   "execution_count": 3,
   "metadata": {},
   "outputs": [
    {
     "name": "stdout",
     "output_type": "stream",
     "text": [
      "A\n",
      "best!!!\n"
     ]
    }
   ],
   "source": [
    "score = input()\n",
    "\n",
    "if score == \"A\" :\n",
    "    print(\"best!!!\")\n",
    "elif score == \"B\" : \n",
    "    print(\"good!!\")\n",
    "elif score  == \"C\" :\n",
    "    print(\"run!\")\n",
    "elif score  == \"D\" :\n",
    "    print(\"slowly~\")\n",
    "else :\n",
    "    print(\"what?\")"
   ]
  },
  {
   "cell_type": "code",
   "execution_count": null,
   "metadata": {},
   "outputs": [],
   "source": []
  }
 ],
 "metadata": {
  "kernelspec": {
   "display_name": "Python 3",
   "language": "python",
   "name": "python3"
  },
  "language_info": {
   "codemirror_mode": {
    "name": "ipython",
    "version": 3
   },
   "file_extension": ".py",
   "mimetype": "text/x-python",
   "name": "python",
   "nbconvert_exporter": "python",
   "pygments_lexer": "ipython3",
   "version": "3.7.3"
  }
 },
 "nbformat": 4,
 "nbformat_minor": 2
}
