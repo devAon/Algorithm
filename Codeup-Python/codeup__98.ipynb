{
 "cells": [
  {
   "cell_type": "code",
   "execution_count": 1,
   "metadata": {},
   "outputs": [
    {
     "name": "stdout",
     "output_type": "stream",
     "text": [
      "20 10\n",
      "10\n",
      "20 1 1 1\n",
      "20 1 1 2\n",
      "20 1 1 3\n",
      "20 1 1 4\n",
      "20 1 1 5\n",
      "20 1 1 6\n",
      "20 1 1 7\n",
      "20 1 1 8\n",
      "20 1 1 9\n",
      "20 1 1 10\n",
      "1 1 1 1 1 1 1 1 1 1  \n",
      "1 1 1 1 1 1 1 1 1 1  \n",
      "1 1 1 1 1 1 1 1 1 1  \n",
      "1 1 1 1 1 1 1 1 1 1  \n",
      "1 1 1 1 1 1 1 1 1 1  \n",
      "1 1 1 1 1 1 1 1 1 1  \n",
      "1 1 1 1 1 1 1 1 1 1  \n",
      "1 1 1 1 1 1 1 1 1 1  \n",
      "1 1 1 1 1 1 1 1 1 1  \n",
      "1 1 1 1 1 1 1 1 1 1  \n",
      "1 1 1 1 1 1 1 1 1 1  \n",
      "1 1 1 1 1 1 1 1 1 1  \n",
      "1 1 1 1 1 1 1 1 1 1  \n",
      "1 1 1 1 1 1 1 1 1 1  \n",
      "1 1 1 1 1 1 1 1 1 1  \n",
      "1 1 1 1 1 1 1 1 1 1  \n",
      "1 1 1 1 1 1 1 1 1 1  \n",
      "1 1 1 1 1 1 1 1 1 1  \n",
      "1 1 1 1 1 1 1 1 1 1  \n",
      "1 1 1 1 1 1 1 1 1 1  \n"
     ]
    }
   ],
   "source": [
    "h, w = map(int, input().split())\n",
    "list = [[0]*w for i in range(h)]\n",
    "\n",
    "n = int(input())\n",
    "\n",
    "for i in range(0, n) :\n",
    "    l, d, x, y = map(int, input().split())\n",
    "    x-=1\n",
    "    y-=1\n",
    "    list[x][y] = 1\n",
    "    if d == 0 :\n",
    "        for j in range(1, l) :\n",
    "            list[x][y+j] = 1\n",
    "    elif d == 1 :\n",
    "        for k in range(1, l) :\n",
    "            list[x+k][y] = 1\n",
    "\n",
    "for i in range(0,h) :\n",
    "    for j in range(0, w) :\n",
    "        print(list[i][j], end = ' ')\n",
    "    print(' ')      "
   ]
  },
  {
   "cell_type": "code",
   "execution_count": null,
   "metadata": {},
   "outputs": [],
   "source": []
  }
 ],
 "metadata": {
  "kernelspec": {
   "display_name": "Python 3",
   "language": "python",
   "name": "python3"
  },
  "language_info": {
   "codemirror_mode": {
    "name": "ipython",
    "version": 3
   },
   "file_extension": ".py",
   "mimetype": "text/x-python",
   "name": "python",
   "nbconvert_exporter": "python",
   "pygments_lexer": "ipython3",
   "version": "3.7.3"
  }
 },
 "nbformat": 4,
 "nbformat_minor": 2
}
