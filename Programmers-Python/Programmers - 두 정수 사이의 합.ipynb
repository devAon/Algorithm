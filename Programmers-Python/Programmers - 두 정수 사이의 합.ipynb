{
 "cells": [
  {
   "cell_type": "code",
   "execution_count": 5,
   "metadata": {},
   "outputs": [
    {
     "name": "stdout",
     "output_type": "stream",
     "text": [
      "12\n",
      "3\n",
      "12\n"
     ]
    }
   ],
   "source": [
    "def solution(a, b):\n",
    "    min_v, max_v = min(a,b), max(a,b)\n",
    "    answer = [i for i in range(min_v, max_v+1)]\n",
    "    return sum(answer)\n",
    "\n",
    "print(solution(3, 5))\n",
    "print(solution(3,3))\n",
    "print(solution(5,3))"
   ]
  },
  {
   "cell_type": "code",
   "execution_count": 7,
   "metadata": {},
   "outputs": [
    {
     "name": "stdout",
     "output_type": "stream",
     "text": [
      "12\n",
      "3\n",
      "12\n"
     ]
    }
   ],
   "source": [
    "# 코드 단축 1\n",
    "def solution(a, b):\n",
    "    min_v, max_v = min(a,b), max(a,b)\n",
    "    return sum(range(min_v, max_v+1))\n",
    "\n",
    "print(solution(3, 5))\n",
    "print(solution(3,3))\n",
    "print(solution(5,3))"
   ]
  },
  {
   "cell_type": "code",
   "execution_count": 8,
   "metadata": {},
   "outputs": [
    {
     "name": "stdout",
     "output_type": "stream",
     "text": [
      "12\n",
      "3\n",
      "12\n"
     ]
    }
   ],
   "source": [
    "# 코드 단축 2\n",
    "def solution(a, b):\n",
    "    return sum(range(min(a,b), max(a,b)+1))\n",
    "\n",
    "print(solution(3, 5))\n",
    "print(solution(3,3))\n",
    "print(solution(5,3))"
   ]
  },
  {
   "cell_type": "code",
   "execution_count": 10,
   "metadata": {},
   "outputs": [
    {
     "name": "stdout",
     "output_type": "stream",
     "text": [
      "12\n",
      "3\n",
      "12\n"
     ]
    }
   ],
   "source": [
    "# 다른 사람 코드\n",
    "def solution(a, b):\n",
    "    if a > b: a, b = b, a\n",
    "    return sum(range(a, b+1))\n",
    "\n",
    "print(solution(3, 5))\n",
    "print(solution(3,3))\n",
    "print(solution(5,3))"
   ]
  },
  {
   "cell_type": "code",
   "execution_count": null,
   "metadata": {},
   "outputs": [],
   "source": []
  }
 ],
 "metadata": {
  "kernelspec": {
   "display_name": "Python 3",
   "language": "python",
   "name": "python3"
  },
  "language_info": {
   "codemirror_mode": {
    "name": "ipython",
    "version": 3
   },
   "file_extension": ".py",
   "mimetype": "text/x-python",
   "name": "python",
   "nbconvert_exporter": "python",
   "pygments_lexer": "ipython3",
   "version": "3.7.3"
  }
 },
 "nbformat": 4,
 "nbformat_minor": 2
}
