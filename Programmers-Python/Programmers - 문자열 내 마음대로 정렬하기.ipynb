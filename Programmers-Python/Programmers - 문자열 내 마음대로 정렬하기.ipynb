{
 "cells": [
  {
   "cell_type": "code",
   "execution_count": 7,
   "metadata": {
    "scrolled": true
   },
   "outputs": [
    {
     "name": "stdout",
     "output_type": "stream",
     "text": [
      "['car', 'bed', 'sun']\n",
      "['abce', 'abcd', 'cdx']\n"
     ]
    }
   ],
   "source": [
    "def solution(strings, n):\n",
    "    return sorted(strings, key=lambda x: x[n])\n",
    "strings = ['sun', 'bed', 'car']\n",
    "print(solution(strings, 1))\n",
    "strings = ['abce', 'abcd', 'cdx']\n",
    "print(solution(strings, 2))"
   ]
  },
  {
   "cell_type": "code",
   "execution_count": null,
   "metadata": {},
   "outputs": [],
   "source": [
    "문제점\n",
    "결과값 : ['abce', 'abcd', 'cdx']\n",
    "기대값 : ['abcd', 'abce', 'cdx']\n",
    "n 인덱스의 값이 중복되는 경우 다음 인덱스의 문자로 정렬이 되어야하는데 안됐다."
   ]
  },
  {
   "cell_type": "code",
   "execution_count": null,
   "metadata": {},
   "outputs": [],
   "source": [
    "# 코드 수정\n",
    "def solution(strings, n):\n",
    "    return sorted(sorted(strings), key=lambda x: x[n])\n",
    "strings = ['sun', 'bed', 'car']\n",
    "print(solution(strings, 1))\n",
    "strings = ['abce', 'abcd', 'cdx']\n",
    "print(solution(strings, 2))"
   ]
  },
  {
   "cell_type": "code",
   "execution_count": null,
   "metadata": {},
   "outputs": [],
   "source": [
    "해결\n",
    "sorted 두~번으로 해결 가 능 "
   ]
  }
 ],
 "metadata": {
  "kernelspec": {
   "display_name": "Python 3",
   "language": "python",
   "name": "python3"
  },
  "language_info": {
   "codemirror_mode": {
    "name": "ipython",
    "version": 3
   },
   "file_extension": ".py",
   "mimetype": "text/x-python",
   "name": "python",
   "nbconvert_exporter": "python",
   "pygments_lexer": "ipython3",
   "version": "3.7.3"
  }
 },
 "nbformat": 4,
 "nbformat_minor": 2
}
