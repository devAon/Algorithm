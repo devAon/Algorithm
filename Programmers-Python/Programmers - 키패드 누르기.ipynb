{
 "cells": [
  {
   "cell_type": "code",
   "execution_count": 47,
   "metadata": {},
   "outputs": [
    {
     "data": {
      "text/plain": [
       "'LRLLLRLLRRL'"
      ]
     },
     "execution_count": 47,
     "metadata": {},
     "output_type": "execute_result"
    }
   ],
   "source": [
    "def distance(number, hand):\n",
    "    keypad = [[1,2,3],[4,5,6],[7,8,9],['*',0,'#']]\n",
    "    N, H = 0, 0\n",
    "    for i in range(len(keypad)):\n",
    "        for j in range(len(keypad[0])):\n",
    "            if keypad[i][j] == number:\n",
    "                N = (i,j) \n",
    "            if keypad[i][j] == hand:\n",
    "                H = (i,j) \n",
    "    return abs(H[0] - N[0]) + abs(H[1] - N[1])\n",
    "\n",
    "def solution(numbers, hand):\n",
    "    answer = ''\n",
    "    Lprev,Rprev = 0,0\n",
    "    for data in numbers:\n",
    "        if data in [1, 4, 7]:\n",
    "            answer += 'L'\n",
    "            Lprev = data\n",
    "        elif data in [3, 6, 9]:\n",
    "            answer += 'R'\n",
    "            Rprev = data\n",
    "        else :  \n",
    "            Ldistance, Rdistance = distance(data,Lprev), distance(data,Rprev)\n",
    "            if (Ldistance < Rdistance) or ((Ldistance == Rdistance) and (hand == 'left')):\n",
    "                answer += 'L'\n",
    "                Lprev = data\n",
    "            if (Ldistance > Rdistance) or ((Ldistance == Rdistance) and (hand == 'right')):\n",
    "                answer += 'R'\n",
    "                Rprev = data\n",
    "    return answer\n",
    "\n",
    "numbers = [1, 3, 4, 5, 8, 2, 1, 4, 5, 9, 5]\n",
    "hand = 'right'\n",
    "solution(numbers, hand)"
   ]
  },
  {
   "cell_type": "code",
   "execution_count": null,
   "metadata": {},
   "outputs": [],
   "source": [
    "LRLLLRLLRRL"
   ]
  }
 ],
 "metadata": {
  "kernelspec": {
   "display_name": "Python 3",
   "language": "python",
   "name": "python3"
  },
  "language_info": {
   "codemirror_mode": {
    "name": "ipython",
    "version": 3
   },
   "file_extension": ".py",
   "mimetype": "text/x-python",
   "name": "python",
   "nbconvert_exporter": "python",
   "pygments_lexer": "ipython3",
   "version": "3.7.3"
  }
 },
 "nbformat": 4,
 "nbformat_minor": 2
}
