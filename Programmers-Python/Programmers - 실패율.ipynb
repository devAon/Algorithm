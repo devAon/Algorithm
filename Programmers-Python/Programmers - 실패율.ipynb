{
 "cells": [
  {
   "cell_type": "code",
   "execution_count": 27,
   "metadata": {},
   "outputs": [
    {
     "data": {
      "text/plain": [
       "[4, 1, 2, 3]"
      ]
     },
     "execution_count": 27,
     "metadata": {},
     "output_type": "execute_result"
    }
   ],
   "source": [
    "def solution(N, stages):\n",
    "    result = {}\n",
    "    tot = len(stages)\n",
    "    for i in range(N):\n",
    "        cnt = stages.count(i+1)\n",
    "        if cnt == 0:\n",
    "           result[i+1] = 0\n",
    "        else:\n",
    "            result[i+1] = cnt / tot\n",
    "        tot -= cnt\n",
    "    order = sorted(result.items(), reverse = True,key = lambda item: item[1])\n",
    "    keys = [order[i][0] for i in range(N)]\n",
    "    return keys\n",
    "\n",
    "N, stages = 4, [4,4,4,4]\n",
    "solution(N, stages)"
   ]
  }
 ],
 "metadata": {
  "kernelspec": {
   "display_name": "Python 3",
   "language": "python",
   "name": "python3"
  },
  "language_info": {
   "codemirror_mode": {
    "name": "ipython",
    "version": 3
   },
   "file_extension": ".py",
   "mimetype": "text/x-python",
   "name": "python",
   "nbconvert_exporter": "python",
   "pygments_lexer": "ipython3",
   "version": "3.7.3"
  }
 },
 "nbformat": 4,
 "nbformat_minor": 2
}
