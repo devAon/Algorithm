{
 "cells": [
  {
   "cell_type": "code",
   "execution_count": 1,
   "metadata": {},
   "outputs": [
    {
     "name": "stdout",
     "output_type": "stream",
     "text": [
      "37\n",
      "9\n",
      "3\n",
      "23\n",
      "5\n",
      "-4\n",
      "59\n"
     ]
    }
   ],
   "source": [
    "def solution(dartResult):\n",
    "    stack = []\n",
    "    sdt = ['S', 'D', 'T']\n",
    "    for s in dartResult:   \n",
    "        if s in sdt :\n",
    "            stack[-1] = stack[-1] ** (sdt.index(s)+1)\n",
    "        elif s == '*':\n",
    "            if len(stack) >= 2:\n",
    "                stack[-2] *= 2\n",
    "            stack[-1] *= 2\n",
    "        elif s == '#':\n",
    "            stack[-1] *= (-1)\n",
    "        else:\n",
    "            if len(stack) != 0:\n",
    "                if stack[-1] == 1 and int(s) == 0:\n",
    "                    stack[-1] = 10\n",
    "                else:\n",
    "                    stack.append(int(s))\n",
    "            else:\n",
    "                stack.append(int(s))\n",
    "    return sum(stack)\n",
    "\n",
    "d = '1S2D*3T'\n",
    "print(solution(d))\n",
    "d = '1D2S#10S'\n",
    "print(solution(d))\n",
    "d = '1D2S0T'\n",
    "print(solution(d))\n",
    "d = '1S*2T*3S'\n",
    "print(solution(d))\n",
    "d = '1D#2S*3S'\n",
    "print(solution(d))\n",
    "d = '1T2D3D#'\n",
    "print(solution(d))\n",
    "d = '1D2S3T*'\n",
    "print(solution(d))"
   ]
  },
  {
   "cell_type": "code",
   "execution_count": 2,
   "metadata": {},
   "outputs": [
    {
     "name": "stdout",
     "output_type": "stream",
     "text": [
      "37\n",
      "9\n",
      "3\n",
      "23\n",
      "5\n",
      "-4\n",
      "59\n"
     ]
    }
   ],
   "source": [
    "# 다른 사람 코드\n",
    "import re\n",
    "\n",
    "\n",
    "def solution(dartResult):\n",
    "    bonus = {'S' : 1, 'D' : 2, 'T' : 3}\n",
    "    option = {'' : 1, '*' : 2, '#' : -1}\n",
    "    p = re.compile('(\\d+)([SDT])([*#]?)')\n",
    "    dart = p.findall(dartResult)\n",
    "    for i in range(len(dart)):\n",
    "        if dart[i][2] == '*' and i > 0:\n",
    "            dart[i-1] *= 2\n",
    "        dart[i] = int(dart[i][0]) ** bonus[dart[i][1]] * option[dart[i][2]]\n",
    "\n",
    "    answer = sum(dart)\n",
    "    return answer\n",
    "\n",
    "d = '1S2D*3T'\n",
    "print(solution(d))\n",
    "d = '1D2S#10S'\n",
    "print(solution(d))\n",
    "d = '1D2S0T'\n",
    "print(solution(d))\n",
    "d = '1S*2T*3S'\n",
    "print(solution(d))\n",
    "d = '1D#2S*3S'\n",
    "print(solution(d))\n",
    "d = '1T2D3D#'\n",
    "print(solution(d))\n",
    "d = '1D2S3T*'\n",
    "print(solution(d))"
   ]
  },
  {
   "cell_type": "code",
   "execution_count": 4,
   "metadata": {},
   "outputs": [
    {
     "name": "stdout",
     "output_type": "stream",
     "text": [
      "['1', 'S', '2', 'D', '*', '3', 'T']\n",
      "37\n",
      "['1', 'D', '2', 'S', '#', '10', 'S']\n",
      "9\n",
      "['1', 'D', '2', 'S', '0', 'T']\n",
      "3\n",
      "['1', 'S', '*', '2', 'T', '*', '3', 'S']\n",
      "23\n",
      "['1', 'D', '#', '2', 'S', '*', '3', 'S']\n",
      "5\n",
      "['1', 'T', '2', 'D', '3', 'D', '#']\n",
      "-4\n",
      "['1', 'D', '2', 'S', '3', 'T', '*']\n",
      "59\n"
     ]
    }
   ],
   "source": [
    "# 다른 사람 코드\n",
    "def solution(dartResult):\n",
    "    point = []\n",
    "    answer = []\n",
    "    dartResult = dartResult.replace('10','k')\n",
    "    point = ['10' if i == 'k' else i for i in dartResult]\n",
    "    print(point)\n",
    "\n",
    "    i = -1\n",
    "    sdt = ['S', 'D', 'T']\n",
    "    for j in point:\n",
    "        if j in sdt :\n",
    "            answer[i] = answer[i] ** (sdt.index(j)+1)\n",
    "        elif j == '*':\n",
    "            answer[i] = answer[i] * 2\n",
    "            if i != 0 :\n",
    "                answer[i - 1] = answer[i - 1] * 2\n",
    "        elif j == '#':\n",
    "            answer[i] = answer[i] * (-1)\n",
    "        else:\n",
    "            answer.append(int(j))\n",
    "            i += 1\n",
    "    return sum(answer)\n",
    "\n",
    "d = '1S2D*3T'\n",
    "print(solution(d))\n",
    "d = '1D2S#10S'\n",
    "print(solution(d))\n",
    "d = '1D2S0T'\n",
    "print(solution(d))\n",
    "d = '1S*2T*3S'\n",
    "print(solution(d))\n",
    "d = '1D#2S*3S'\n",
    "print(solution(d))\n",
    "d = '1T2D3D#'\n",
    "print(solution(d))\n",
    "d = '1D2S3T*'\n",
    "print(solution(d))"
   ]
  },
  {
   "cell_type": "code",
   "execution_count": null,
   "metadata": {},
   "outputs": [],
   "source": []
  }
 ],
 "metadata": {
  "kernelspec": {
   "display_name": "Python 3",
   "language": "python",
   "name": "python3"
  },
  "language_info": {
   "codemirror_mode": {
    "name": "ipython",
    "version": 3
   },
   "file_extension": ".py",
   "mimetype": "text/x-python",
   "name": "python",
   "nbconvert_exporter": "python",
   "pygments_lexer": "ipython3",
   "version": "3.7.3"
  }
 },
 "nbformat": 4,
 "nbformat_minor": 2
}
