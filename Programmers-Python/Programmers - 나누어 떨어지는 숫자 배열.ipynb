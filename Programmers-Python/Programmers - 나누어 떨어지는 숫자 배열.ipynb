{
 "cells": [
  {
   "cell_type": "code",
   "execution_count": 3,
   "metadata": {},
   "outputs": [
    {
     "name": "stdout",
     "output_type": "stream",
     "text": [
      "[5, 10]\n",
      "[-1]\n"
     ]
    }
   ],
   "source": [
    "def solution(arr, divisor):\n",
    "    answer = []\n",
    "    for i in arr:\n",
    "        if i % divisor == 0:\n",
    "            answer.append(i)\n",
    "    if len(answer) == 0:\n",
    "        answer.append(-1)\n",
    "    else:\n",
    "        answer.sort()\n",
    "    return answer\n",
    "\n",
    "\n",
    "arr = [5,9,7,10]\n",
    "print(solution(arr, 5))\n",
    "arr = [3,2,6]\n",
    "print(solution(arr, 10))"
   ]
  },
  {
   "cell_type": "code",
   "execution_count": null,
   "metadata": {},
   "outputs": [],
   "source": [
    "# 코드 단축\n",
    "def solution(arr, divisor):\n",
    "    return sorted([n for n in arr if n % divisor == 0] or [-1])\n",
    "\n",
    "arr = [5,9,7,10]\n",
    "print(solution(arr, 5))\n",
    "arr = [3,2,6]\n",
    "print(solution(arr, 10))"
   ]
  }
 ],
 "metadata": {
  "kernelspec": {
   "display_name": "Python 3",
   "language": "python",
   "name": "python3"
  },
  "language_info": {
   "codemirror_mode": {
    "name": "ipython",
    "version": 3
   },
   "file_extension": ".py",
   "mimetype": "text/x-python",
   "name": "python",
   "nbconvert_exporter": "python",
   "pygments_lexer": "ipython3",
   "version": "3.7.3"
  }
 },
 "nbformat": 4,
 "nbformat_minor": 2
}
