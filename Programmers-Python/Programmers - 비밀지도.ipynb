{
 "cells": [
  {
   "cell_type": "code",
   "execution_count": 4,
   "metadata": {},
   "outputs": [
    {
     "data": {
      "text/plain": [
       "['#####', '# # #', '### #', '#  ##', '#####']"
      ]
     },
     "execution_count": 4,
     "metadata": {},
     "output_type": "execute_result"
    }
   ],
   "source": [
    "def binary(arr):\n",
    "    m = []\n",
    "    for i in arr:\n",
    "        r =[]\n",
    "        for _ in range(len(arr)):\n",
    "            r.append(i % 2)\n",
    "            i //= 2\n",
    "        r = [r[i] for i in range(len(r)-1, -1, -1)]\n",
    "        m.append(r)\n",
    "    return m\n",
    "        \n",
    "def solution(n, arr1, arr2):\n",
    "    arr1 = binary(arr1)\n",
    "    arr2 = binary(arr2)\n",
    "    m = []\n",
    "\n",
    "    for i in range(n):\n",
    "        str = \"\"\n",
    "        for j in range(n):\n",
    "            if arr1[i][j] == 1 or arr2[i][j] == 1:\n",
    "                str += \"#\"\n",
    "            else : \n",
    "                str += ' '\n",
    "        m.append(str)\n",
    "    return m\n",
    "\n",
    "arr1 = [9, 20, 28, 18, 11]\n",
    "arr2 = [30, 1, 21, 17, 28]\n",
    "solution(5, arr1, arr2)"
   ]
  },
  {
   "cell_type": "code",
   "execution_count": 5,
   "metadata": {},
   "outputs": [
    {
     "data": {
      "text/plain": [
       "['#####', '# # #', '### #', '#  ##', '#####']"
      ]
     },
     "execution_count": 5,
     "metadata": {},
     "output_type": "execute_result"
    }
   ],
   "source": [
    "# 다른 사람 코드\n",
    "def solution(n, arr1, arr2):\n",
    "    answer = []\n",
    "    for i,j in zip(arr1,arr2):\n",
    "        a12 = str(bin(i|j)[2:])\n",
    "        a12=a12.rjust(n,'0')\n",
    "        a12=a12.replace('1','#')\n",
    "        a12=a12.replace('0',' ')\n",
    "        answer.append(a12)\n",
    "    return answer\n",
    "arr1 = [9, 20, 28, 18, 11]\n",
    "arr2 = [30, 1, 21, 17, 28]\n",
    "solution(5, arr1, arr2)"
   ]
  },
  {
   "cell_type": "code",
   "execution_count": 3,
   "metadata": {},
   "outputs": [
    {
     "data": {
      "text/plain": [
       "['#####', '# # #', '### #', '#  ##', '#####']"
      ]
     },
     "execution_count": 3,
     "metadata": {},
     "output_type": "execute_result"
    }
   ],
   "source": [
    "# 다른 사람 코드\n",
    "def solution(n, arr1, arr2):\n",
    "    answer = []\n",
    "    for index in range(0,n):\n",
    "        answer.append(str(bin(arr1[index] | arr2[index] | pow(2,n))).replace(\"0b1\",\"\").replace(\"1\",\"#\").replace(\"0\",\" \"))\n",
    "        pass\n",
    "\n",
    "    return answer\n",
    "arr1 = [9, 20, 28, 18, 11]\n",
    "arr2 = [30, 1, 21, 17, 28]\n",
    "solution(5, arr1, arr2)"
   ]
  },
  {
   "cell_type": "code",
   "execution_count": null,
   "metadata": {},
   "outputs": [],
   "source": [
    "파이썬 내장함수를 잘 활용하자 .."
   ]
  }
 ],
 "metadata": {
  "kernelspec": {
   "display_name": "Python 3",
   "language": "python",
   "name": "python3"
  },
  "language_info": {
   "codemirror_mode": {
    "name": "ipython",
    "version": 3
   },
   "file_extension": ".py",
   "mimetype": "text/x-python",
   "name": "python",
   "nbconvert_exporter": "python",
   "pygments_lexer": "ipython3",
   "version": "3.7.3"
  }
 },
 "nbformat": 4,
 "nbformat_minor": 2
}
