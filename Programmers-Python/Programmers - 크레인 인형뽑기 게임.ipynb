{
 "cells": [
  {
   "cell_type": "code",
   "execution_count": 13,
   "metadata": {},
   "outputs": [
    {
     "data": {
      "text/plain": [
       "4"
      ]
     },
     "execution_count": 13,
     "metadata": {},
     "output_type": "execute_result"
    }
   ],
   "source": [
    "def solution(board, moves):\n",
    "    answer = 0\n",
    "    moved = []\n",
    "    for data in moves:\n",
    "        for i in range(len(board)):\n",
    "            if board[i][data-1] != 0:\n",
    "                temp = board[i][data-1]\n",
    "                board[i][data-1] = 0\n",
    "                if len(moved) == 0:\n",
    "                    moved.append(temp)\n",
    "                elif len(moved) > 0 and temp != moved[-1]:\n",
    "                    moved.append(temp)\n",
    "                else : \n",
    "                    answer += 1\n",
    "                    del moved[-1]\n",
    "                break\n",
    "    return answer * 2\n",
    "\n",
    "board= [[0,0,0,0,0],[0,0,1,0,3],[0,2,5,0,1],[4,2,4,4,2],[3,5,1,3,1]]\n",
    "moves = [1,5,3,5,1,2,1,4]\n",
    "solution(board, moves)"
   ]
  }
 ],
 "metadata": {
  "kernelspec": {
   "display_name": "Python 3",
   "language": "python",
   "name": "python3"
  },
  "language_info": {
   "codemirror_mode": {
    "name": "ipython",
    "version": 3
   },
   "file_extension": ".py",
   "mimetype": "text/x-python",
   "name": "python",
   "nbconvert_exporter": "python",
   "pygments_lexer": "ipython3",
   "version": "3.7.3"
  }
 },
 "nbformat": 4,
 "nbformat_minor": 2
}
