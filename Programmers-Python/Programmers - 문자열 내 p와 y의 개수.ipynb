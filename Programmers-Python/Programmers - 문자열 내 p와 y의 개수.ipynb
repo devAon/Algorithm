{
 "cells": [
  {
   "cell_type": "code",
   "execution_count": 6,
   "metadata": {},
   "outputs": [
    {
     "name": "stdout",
     "output_type": "stream",
     "text": [
      "True\n",
      "False\n",
      "True\n"
     ]
    }
   ],
   "source": [
    "def solution(s):\n",
    "    return s.count(\"p\")+s.count(\"P\") == s.count(\"y\")+s.count(\"Y\")\n",
    "\n",
    "print(solution(\"pPoooyY\"))\n",
    "print(solution(\"Pyy\"))\n",
    "print(solution(\"aaaa\"))"
   ]
  },
  {
   "cell_type": "code",
   "execution_count": 11,
   "metadata": {
    "scrolled": true
   },
   "outputs": [
    {
     "name": "stdout",
     "output_type": "stream",
     "text": [
      "True\n",
      "False\n",
      "True\n"
     ]
    }
   ],
   "source": [
    "# 다른 사람 코드\n",
    "def solution(s):\n",
    "    return s.lower().count('p') == s.lower().count('y')\n",
    "\n",
    "print(solution(\"pPoooyY\"))\n",
    "print(solution(\"Pyy\"))\n",
    "print(solution(\"aaaa\"))"
   ]
  }
 ],
 "metadata": {
  "kernelspec": {
   "display_name": "Python 3",
   "language": "python",
   "name": "python3"
  },
  "language_info": {
   "codemirror_mode": {
    "name": "ipython",
    "version": 3
   },
   "file_extension": ".py",
   "mimetype": "text/x-python",
   "name": "python",
   "nbconvert_exporter": "python",
   "pygments_lexer": "ipython3",
   "version": "3.7.3"
  }
 },
 "nbformat": 4,
 "nbformat_minor": 2
}
