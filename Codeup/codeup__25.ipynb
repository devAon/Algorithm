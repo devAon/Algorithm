{
 "cells": [
  {
   "cell_type": "code",
   "execution_count": 1,
   "metadata": {},
   "outputs": [
    {
     "name": "stdout",
     "output_type": "stream",
     "text": [
      "12345\n",
      "1 2 3 4 5\n"
     ]
    }
   ],
   "source": [
    "a, b, c, d, e = map(int, input())\n",
    "print(\"%d %d %d %d %d\" %(a,b,c,d,e))"
   ]
  },
  {
   "cell_type": "code",
   "execution_count": 4,
   "metadata": {},
   "outputs": [
    {
     "name": "stdout",
     "output_type": "stream",
     "text": [
      "75254\n",
      "[70000]\n",
      "[5000]\n",
      "[200]\n",
      "[50]\n",
      "[4]\n"
     ]
    }
   ],
   "source": [
    "values = map(int, input())\n",
    "num = 10000\n",
    "\n",
    "for value in values :\n",
    "    print(\"[%d]\" %(value * num))\n",
    "    num /= 10"
   ]
  },
  {
   "cell_type": "code",
   "execution_count": null,
   "metadata": {},
   "outputs": [],
   "source": []
  }
 ],
 "metadata": {
  "kernelspec": {
   "display_name": "Python 3",
   "language": "python",
   "name": "python3"
  },
  "language_info": {
   "codemirror_mode": {
    "name": "ipython",
    "version": 3
   },
   "file_extension": ".py",
   "mimetype": "text/x-python",
   "name": "python",
   "nbconvert_exporter": "python",
   "pygments_lexer": "ipython3",
   "version": "3.7.3"
  }
 },
 "nbformat": 4,
 "nbformat_minor": 2
}
